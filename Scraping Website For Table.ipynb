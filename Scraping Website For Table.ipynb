{
 "cells": [
  {
   "cell_type": "code",
   "execution_count": 9,
   "metadata": {
    "collapsed": false
   },
   "outputs": [],
   "source": [
    "import pandas as pd\n",
    "import html5lib\n",
    "import requests\n",
    "import string\n",
    "from bs4 import BeautifulSoup\n"
   ]
  },
  {
   "cell_type": "code",
   "execution_count": 10,
   "metadata": {
    "collapsed": false
   },
   "outputs": [],
   "source": [
    "url= 'http://www.bls.gov/oes/2009/may/oes151021.htm'\n",
    "r = requests.get(url)"
   ]
  },
  {
   "cell_type": "code",
   "execution_count": 11,
   "metadata": {
    "collapsed": false
   },
   "outputs": [],
   "source": [
    "soup = BeautifulSoup(r.content)"
   ]
  },
  {
   "cell_type": "code",
   "execution_count": 12,
   "metadata": {
    "collapsed": false
   },
   "outputs": [],
   "source": [
    "tables = soup.find_all(\"table\")\n",
    "data_table = tables[3]"
   ]
  },
  {
   "cell_type": "code",
   "execution_count": 13,
   "metadata": {
    "collapsed": false
   },
   "outputs": [
    {
     "data": {
      "text/plain": [
       "<table border=\"1\" cellpadding=\"5\">\n",
       "<tr>\n",
       "<th align=\"center\" valign=\"middle\" width=\"300\"> Industry </th>\n",
       "<th align=\"center\" valign=\"middle\" width=\"100\"> Employment </th>\n",
       "<th align=\"center\" valign=\"middle\" width=\"100\"> Hourly mean wage </th>\n",
       "<th align=\"center\" valign=\"middle\" width=\"100\"> Annual mean wage </th>\n",
       "</tr>\n",
       "<tr>\n",
       "<td align=\"center\" valign=\"middle\" width=\"300\"><a href=\"naics4_541500.htm\">Computer Systems Design and Related Services                                                                                 </a> </td>\n",
       "<td align=\"center\" valign=\"middle\" width=\"100\">129,780</td>\n",
       "<td align=\"center\" valign=\"middle\" width=\"100\">$36.59</td>\n",
       "<td align=\"center\" valign=\"middle\" width=\"100\">$76,110</td>\n",
       "</tr>\n",
       "<tr>\n",
       "<td align=\"center\" valign=\"middle\" width=\"300\"><a href=\"naics4_511200.htm\">Software Publishers                                                                                                          </a> </td>\n",
       "<td align=\"center\" valign=\"middle\" width=\"100\">18,150</td>\n",
       "<td align=\"center\" valign=\"middle\" width=\"100\">$41.11</td>\n",
       "<td align=\"center\" valign=\"middle\" width=\"100\">$85,510</td>\n",
       "</tr>\n",
       "<tr>\n",
       "<td align=\"center\" valign=\"middle\" width=\"300\"><a href=\"naics4_551100.htm\">Management of Companies and Enterprises                                                                                      </a> </td>\n",
       "<td align=\"center\" valign=\"middle\" width=\"100\">17,560</td>\n",
       "<td align=\"center\" valign=\"middle\" width=\"100\">$35.70</td>\n",
       "<td align=\"center\" valign=\"middle\" width=\"100\">$74,250</td>\n",
       "</tr>\n",
       "<tr>\n",
       "<td align=\"center\" valign=\"middle\" width=\"300\"><a href=\"naics4_561300.htm\">Employment Services                                                                                                          </a> </td>\n",
       "<td align=\"center\" valign=\"middle\" width=\"100\">14,280</td>\n",
       "<td align=\"center\" valign=\"middle\" width=\"100\">$35.82</td>\n",
       "<td align=\"center\" valign=\"middle\" width=\"100\">$74,510</td>\n",
       "</tr>\n",
       "<tr>\n",
       "<td align=\"center\" valign=\"middle\" width=\"300\"><a href=\"naics4_611300.htm\">Colleges, Universities, and Professional Schools                                                                             </a> </td>\n",
       "<td align=\"center\" valign=\"middle\" width=\"100\">11,640</td>\n",
       "<td align=\"center\" valign=\"middle\" width=\"100\">$29.25</td>\n",
       "<td align=\"center\" valign=\"middle\" width=\"100\">$60,840</td>\n",
       "</tr>\n",
       "</table>"
      ]
     },
     "execution_count": 13,
     "metadata": {},
     "output_type": "execute_result"
    }
   ],
   "source": [
    "data_table"
   ]
  },
  {
   "cell_type": "code",
   "execution_count": 14,
   "metadata": {
    "collapsed": false
   },
   "outputs": [
    {
     "name": "stdout",
     "output_type": "stream",
     "text": [
      "Computer Systems Design and Related Services                                                                                  \n",
      "129,780\n",
      "$36.59\n",
      "$76,110\n",
      "Software Publishers                                                                                                           \n",
      "18,150\n",
      "$41.11\n",
      "$85,510\n",
      "Management of Companies and Enterprises                                                                                       \n",
      "17,560\n",
      "$35.70\n",
      "$74,250\n",
      "Employment Services                                                                                                           \n",
      "14,280\n",
      "$35.82\n",
      "$74,510\n",
      "Colleges, Universities, and Professional Schools                                                                              \n",
      "11,640\n",
      "$29.25\n",
      "$60,840\n"
     ]
    }
   ],
   "source": [
    "for row in data_table.find_all('tr'):\n",
    "    for r in row.find_all('td'):\n",
    "        print(r.text)"
   ]
  },
  {
   "cell_type": "code",
   "execution_count": 15,
   "metadata": {
    "collapsed": true
   },
   "outputs": [],
   "source": [
    "industry = []\n",
    "employment = []\n",
    "wage = []\n",
    "salary = []"
   ]
  },
  {
   "cell_type": "code",
   "execution_count": 16,
   "metadata": {
    "collapsed": false
   },
   "outputs": [],
   "source": [
    "for row in data_table.find_all(\"tr\"):\n",
    "    col = row.find_all(\"td\")\n",
    "    \n",
    "    if col:\n",
    "        \n",
    "        column_1 = col[0].text.strip()\n",
    "        industry.append(column_1)\n",
    "\n",
    "        column_2 = col[1].text.strip()\n",
    "        employment.append(column_2)\n",
    "\n",
    "        column_3 = col[2].text.strip()\n",
    "        wage.append(column_3)\n",
    "\n",
    "        column_4 = col[3].text.strip()\n",
    "        salary.append(column_4)\n"
   ]
  },
  {
   "cell_type": "code",
   "execution_count": 17,
   "metadata": {
    "collapsed": false
   },
   "outputs": [
    {
     "data": {
      "text/html": [
       "<div>\n",
       "<table border=\"1\" class=\"dataframe\">\n",
       "  <thead>\n",
       "    <tr style=\"text-align: right;\">\n",
       "      <th></th>\n",
       "      <th>Employment</th>\n",
       "      <th>Hourly Wage</th>\n",
       "      <th>Industry</th>\n",
       "      <th>Yearly Salary</th>\n",
       "    </tr>\n",
       "  </thead>\n",
       "  <tbody>\n",
       "    <tr>\n",
       "      <th>0</th>\n",
       "      <td>129,780</td>\n",
       "      <td>$36.59</td>\n",
       "      <td>Computer Systems Design and Related Services</td>\n",
       "      <td>$76,110</td>\n",
       "    </tr>\n",
       "    <tr>\n",
       "      <th>1</th>\n",
       "      <td>18,150</td>\n",
       "      <td>$41.11</td>\n",
       "      <td>Software Publishers</td>\n",
       "      <td>$85,510</td>\n",
       "    </tr>\n",
       "    <tr>\n",
       "      <th>2</th>\n",
       "      <td>17,560</td>\n",
       "      <td>$35.70</td>\n",
       "      <td>Management of Companies and Enterprises</td>\n",
       "      <td>$74,250</td>\n",
       "    </tr>\n",
       "    <tr>\n",
       "      <th>3</th>\n",
       "      <td>14,280</td>\n",
       "      <td>$35.82</td>\n",
       "      <td>Employment Services</td>\n",
       "      <td>$74,510</td>\n",
       "    </tr>\n",
       "    <tr>\n",
       "      <th>4</th>\n",
       "      <td>11,640</td>\n",
       "      <td>$29.25</td>\n",
       "      <td>Colleges, Universities, and Professional Schools</td>\n",
       "      <td>$60,840</td>\n",
       "    </tr>\n",
       "  </tbody>\n",
       "</table>\n",
       "</div>"
      ],
      "text/plain": [
       "  Employment Hourly Wage                                          Industry  \\\n",
       "0    129,780      $36.59      Computer Systems Design and Related Services   \n",
       "1     18,150      $41.11                               Software Publishers   \n",
       "2     17,560      $35.70           Management of Companies and Enterprises   \n",
       "3     14,280      $35.82                               Employment Services   \n",
       "4     11,640      $29.25  Colleges, Universities, and Professional Schools   \n",
       "\n",
       "  Yearly Salary  \n",
       "0       $76,110  \n",
       "1       $85,510  \n",
       "2       $74,250  \n",
       "3       $74,510  \n",
       "4       $60,840  "
      ]
     },
     "execution_count": 17,
     "metadata": {},
     "output_type": "execute_result"
    }
   ],
   "source": [
    "columns = {'Industry': industry, 'Employment': employment, 'Hourly Wage': wage, 'Yearly Salary': salary}\n",
    "df = pd.DataFrame(columns)\n",
    "df"
   ]
  },
  {
   "cell_type": "code",
   "execution_count": null,
   "metadata": {
    "collapsed": true
   },
   "outputs": [],
   "source": []
  }
 ],
 "metadata": {
  "kernelspec": {
   "display_name": "Python 3",
   "language": "python",
   "name": "python3"
  },
  "language_info": {
   "codemirror_mode": {
    "name": "ipython",
    "version": 3
   },
   "file_extension": ".py",
   "mimetype": "text/x-python",
   "name": "python",
   "nbconvert_exporter": "python",
   "pygments_lexer": "ipython3",
   "version": "3.4.3"
  }
 },
 "nbformat": 4,
 "nbformat_minor": 0
}
