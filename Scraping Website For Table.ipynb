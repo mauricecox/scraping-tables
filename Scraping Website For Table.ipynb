{
 "cells": [
  {
   "cell_type": "code",
   "execution_count": 1,
   "metadata": {
    "collapsed": false
   },
   "outputs": [],
   "source": [
    "import pandas as pd\n",
    "import requests\n",
    "from bs4 import BeautifulSoup\n"
   ]
  },
  {
   "cell_type": "code",
   "execution_count": 2,
   "metadata": {
    "collapsed": false
   },
   "outputs": [],
   "source": [
    "url= 'http://www.bls.gov/oes/current/oes113021.htm'\n",
    "r = requests.get(url)"
   ]
  },
  {
   "cell_type": "code",
   "execution_count": 3,
   "metadata": {
    "collapsed": false
   },
   "outputs": [],
   "source": [
    "soup = BeautifulSoup(r.content)"
   ]
  },
  {
   "cell_type": "code",
   "execution_count": 14,
   "metadata": {
    "collapsed": false
   },
   "outputs": [
    {
     "name": "stdout",
     "output_type": "stream",
     "text": [
      "[<th align=\"center\" valign=\"middle\">Employment <a href=\"#(1)\">(1)</a> </th>, <th align=\"center\" valign=\"middle\">Employment<br/> RSE <a href=\"#(3)\">(3)</a> </th>, <th align=\"center\" valign=\"middle\">Mean hourly<br/> wage</th>, <th align=\"center\" valign=\"middle\">Mean annual<br/> wage <a href=\"#(2)\">(2)</a> </th>, <th align=\"center\" valign=\"middle\">Wage RSE <a href=\"#(3)\">(3)</a> </th>, <th align=\"center\" valign=\"middle\"> Percentile </th>, <th align=\"center\" valign=\"middle\"> 10% </th>, <th align=\"center\" valign=\"middle\"> 25% </th>, <th align=\"center\" valign=\"middle\"> 50%<br/>(Median) </th>, <th align=\"center\" valign=\"middle\"> 75% </th>, <th align=\"center\" valign=\"middle\"> 90% </th>, <th align=\"center\" valign=\"middle\" width=\"300\"> Industry </th>, <th align=\"center\" valign=\"middle\" width=\"100\"> Employment <a href=\"#(1)\">(1)</a> </th>, <th align=\"center\" valign=\"middle\" width=\"100\"> Percent of industry employment </th>, <th align=\"center\" valign=\"middle\" width=\"100\"> Hourly mean wage </th>, <th align=\"center\" valign=\"middle\" width=\"100\"> Annual mean wage <a href=\"#(2)\">(2)</a> </th>, <th align=\"center\" valign=\"middle\" width=\"300\"> Industry </th>, <th align=\"center\" valign=\"middle\" width=\"100\"> Employment <a href=\"#(1)\">(1)</a> </th>, <th align=\"center\" valign=\"middle\" width=\"100\"> Percent of industry employment </th>, <th align=\"center\" valign=\"middle\" width=\"100\"> Hourly mean wage </th>, <th align=\"center\" valign=\"middle\" width=\"100\"> Annual mean wage <a href=\"#(2)\">(2)</a> </th>, <th align=\"center\" valign=\"middle\" width=\"300\"> Industry </th>, <th align=\"center\" valign=\"middle\" width=\"100\"> Employment <a href=\"#(1)\">(1)</a> </th>, <th align=\"center\" valign=\"middle\" width=\"100\"> Percent of industry employment </th>, <th align=\"center\" valign=\"middle\" width=\"100\"> Hourly mean wage </th>, <th align=\"center\" valign=\"middle\" width=\"100\"> Annual mean wage <a href=\"#(2)\">(2)</a> </th>, <th align=\"center\" valign=\"middle\" width=\"200\"> State </th>, <th align=\"center\" valign=\"middle\" width=\"100\"> Employment <a href=\"#(1)\">(1)</a> </th>, <th align=\"center\" valign=\"middle\" width=\"100\"> Employment per thousand jobs </th>, <th align=\"center\" valign=\"middle\" width=\"100\"> Location quotient <a href=\"#(9)\">(9)</a> </th>, <th align=\"center\" valign=\"middle\" width=\"100\"> Hourly mean wage </th>, <th align=\"center\" valign=\"middle\" width=\"100\"> Annual mean wage <a href=\"#(2)\">(2)</a> </th>, <th align=\"center\" valign=\"middle\" width=\"200\"> State </th>, <th align=\"center\" valign=\"middle\" width=\"100\"> Employment <a href=\"#(1)\">(1)</a> </th>, <th align=\"center\" valign=\"middle\" width=\"100\"> Employment per thousand jobs </th>, <th align=\"center\" valign=\"middle\" width=\"100\"> Location quotient <a href=\"#(9)\">(9)</a> </th>, <th align=\"center\" valign=\"middle\" width=\"100\"> Hourly mean wage </th>, <th align=\"center\" valign=\"middle\" width=\"100\"> Annual mean wage <a href=\"#(2)\">(2)</a> </th>, <th align=\"center\" valign=\"middle\" width=\"200\"> State </th>, <th align=\"center\" valign=\"middle\" width=\"100\"> Employment <a href=\"#(1)\">(1)</a> </th>, <th align=\"center\" valign=\"middle\" width=\"100\"> Employment per thousand jobs </th>, <th align=\"center\" valign=\"middle\" width=\"100\"> Location quotient <a href=\"#(9)\">(9)</a> </th>, <th align=\"center\" valign=\"middle\" width=\"100\"> Hourly mean wage </th>, <th align=\"center\" valign=\"middle\" width=\"100\"> Annual mean wage <a href=\"#(2)\">(2)</a> </th>, <th align=\"center\" valign=\"middle\" width=\"200\"> Metropolitan area </th>, <th align=\"center\" valign=\"middle\" width=\"100\"> Employment <a href=\"#(1)\">(1)</a> </th>, <th align=\"center\" valign=\"middle\" width=\"100\"> Employment per thousand jobs </th>, <th align=\"center\" valign=\"middle\" width=\"100\"> Location quotient <a href=\"#(9)\">(9)</a> </th>, <th align=\"center\" valign=\"middle\" width=\"100\"> Hourly mean wage </th>, <th align=\"center\" valign=\"middle\" width=\"100\"> Annual mean wage <a href=\"#(2)\">(2)</a> </th>, <th align=\"center\" valign=\"middle\" width=\"200\"> Metropolitan area </th>, <th align=\"center\" valign=\"middle\" width=\"100\"> Employment <a href=\"#(1)\">(1)</a> </th>, <th align=\"center\" valign=\"middle\" width=\"100\"> Employment per thousand jobs </th>, <th align=\"center\" valign=\"middle\" width=\"100\"> Location quotient <a href=\"#(9)\">(9)</a> </th>, <th align=\"center\" valign=\"middle\" width=\"100\"> Hourly mean wage </th>, <th align=\"center\" valign=\"middle\" width=\"100\"> Annual mean wage <a href=\"#(2)\">(2)</a> </th>, <th align=\"center\" valign=\"middle\" width=\"200\"> Metropolitan area </th>, <th align=\"center\" valign=\"middle\" width=\"100\"> Employment <a href=\"#(1)\">(1)</a> </th>, <th align=\"center\" valign=\"middle\" width=\"100\"> Employment per thousand jobs </th>, <th align=\"center\" valign=\"middle\" width=\"100\"> Location quotient <a href=\"#(9)\">(9)</a> </th>, <th align=\"center\" valign=\"middle\" width=\"100\"> Hourly mean wage </th>, <th align=\"center\" valign=\"middle\" width=\"100\"> Annual mean wage <a href=\"#(2)\">(2)</a> </th>, <th align=\"center\" valign=\"middle\" width=\"200\"> Nonmetropolitan area </th>, <th align=\"center\" valign=\"middle\" width=\"100\"> Employment <a href=\"#(1)\">(1)</a> </th>, <th align=\"center\" valign=\"middle\" width=\"100\"> Employment per thousand jobs </th>, <th align=\"center\" valign=\"middle\" width=\"100\"> Location quotient <a href=\"#(9)\">(9)</a> </th>, <th align=\"center\" valign=\"middle\" width=\"100\"> Hourly mean wage </th>, <th align=\"center\" valign=\"middle\" width=\"100\"> Annual mean wage <a href=\"#(2)\">(2)</a> </th>, <th align=\"center\" valign=\"middle\" width=\"200\"> Nonmetropolitan area </th>, <th align=\"center\" valign=\"middle\" width=\"100\"> Employment <a href=\"#(1)\">(1)</a> </th>, <th align=\"center\" valign=\"middle\" width=\"100\"> Employment per thousand jobs </th>, <th align=\"center\" valign=\"middle\" width=\"100\"> Location quotient <a href=\"#(9)\">(9)</a> </th>, <th align=\"center\" valign=\"middle\" width=\"100\"> Hourly mean wage </th>, <th align=\"center\" valign=\"middle\" width=\"100\"> Annual mean wage <a href=\"#(2)\">(2)</a> </th>, <th align=\"center\" valign=\"middle\" width=\"200\"> Nonmetropolitan area </th>, <th align=\"center\" valign=\"middle\" width=\"100\"> Employment <a href=\"#(1)\">(1)</a> </th>, <th align=\"center\" valign=\"middle\" width=\"100\"> Employment per thousand jobs </th>, <th align=\"center\" valign=\"middle\" width=\"100\"> Location quotient <a href=\"#(9)\">(9)</a> </th>, <th align=\"center\" valign=\"middle\" width=\"100\"> Hourly mean wage </th>, <th align=\"center\" valign=\"middle\" width=\"100\"> Annual mean wage <a href=\"#(2)\">(2)</a> </th>]\n"
     ]
    }
   ],
   "source": [
    "g_data = soup.find_all(\"th\")\n",
    "print (g_data)"
   ]
  },
  {
   "cell_type": "code",
   "execution_count": 12,
   "metadata": {
    "collapsed": false
   },
   "outputs": [
    {
     "name": "stdout",
     "output_type": "stream",
     "text": [
      "Employment (1) \n",
      "Employment RSE (3) \n",
      "Mean hourly wage\n",
      "Mean annual wage (2) \n",
      "Wage RSE (3) \n",
      " Percentile \n",
      " 10% \n",
      " 25% \n",
      " 50%(Median) \n",
      " 75% \n",
      " 90% \n",
      " Industry \n",
      " Employment (1) \n",
      " Percent of industry employment \n",
      " Hourly mean wage \n",
      " Annual mean wage (2) \n",
      " Industry \n",
      " Employment (1) \n",
      " Percent of industry employment \n",
      " Hourly mean wage \n",
      " Annual mean wage (2) \n",
      " Industry \n",
      " Employment (1) \n",
      " Percent of industry employment \n",
      " Hourly mean wage \n",
      " Annual mean wage (2) \n",
      " State \n",
      " Employment (1) \n",
      " Employment per thousand jobs \n",
      " Location quotient (9) \n",
      " Hourly mean wage \n",
      " Annual mean wage (2) \n",
      " State \n",
      " Employment (1) \n",
      " Employment per thousand jobs \n",
      " Location quotient (9) \n",
      " Hourly mean wage \n",
      " Annual mean wage (2) \n",
      " State \n",
      " Employment (1) \n",
      " Employment per thousand jobs \n",
      " Location quotient (9) \n",
      " Hourly mean wage \n",
      " Annual mean wage (2) \n",
      " Metropolitan area \n",
      " Employment (1) \n",
      " Employment per thousand jobs \n",
      " Location quotient (9) \n",
      " Hourly mean wage \n",
      " Annual mean wage (2) \n",
      " Metropolitan area \n",
      " Employment (1) \n",
      " Employment per thousand jobs \n",
      " Location quotient (9) \n",
      " Hourly mean wage \n",
      " Annual mean wage (2) \n",
      " Metropolitan area \n",
      " Employment (1) \n",
      " Employment per thousand jobs \n",
      " Location quotient (9) \n",
      " Hourly mean wage \n",
      " Annual mean wage (2) \n",
      " Nonmetropolitan area \n",
      " Employment (1) \n",
      " Employment per thousand jobs \n",
      " Location quotient (9) \n",
      " Hourly mean wage \n",
      " Annual mean wage (2) \n",
      " Nonmetropolitan area \n",
      " Employment (1) \n",
      " Employment per thousand jobs \n",
      " Location quotient (9) \n",
      " Hourly mean wage \n",
      " Annual mean wage (2) \n",
      " Nonmetropolitan area \n",
      " Employment (1) \n",
      " Employment per thousand jobs \n",
      " Location quotient (9) \n",
      " Hourly mean wage \n",
      " Annual mean wage (2) \n"
     ]
    }
   ],
   "source": [
    "for item in g_data:\n",
    "    print (item.text)"
   ]
  },
  {
   "cell_type": "code",
   "execution_count": null,
   "metadata": {
    "collapsed": false
   },
   "outputs": [],
   "source": []
  },
  {
   "cell_type": "code",
   "execution_count": 6,
   "metadata": {
    "collapsed": false
   },
   "outputs": [],
   "source": [
    "industry = []\n",
    "employment =[]\n",
    "hourly_wage = []\n",
    "salary = []\n"
   ]
  },
  {
   "cell_type": "code",
   "execution_count": 7,
   "metadata": {
    "collapsed": false
   },
   "outputs": [
    {
     "ename": "NameError",
     "evalue": "name 'df' is not defined",
     "output_type": "error",
     "traceback": [
      "\u001b[0;31m---------------------------------------------------------------------------\u001b[0m",
      "\u001b[0;31mNameError\u001b[0m                                 Traceback (most recent call last)",
      "\u001b[0;32m<ipython-input-7-7ed0097d7e9e>\u001b[0m in \u001b[0;36m<module>\u001b[0;34m()\u001b[0m\n\u001b[0;32m----> 1\u001b[0;31m \u001b[0mdf\u001b[0m\u001b[0;34m\u001b[0m\u001b[0m\n\u001b[0m",
      "\u001b[0;31mNameError\u001b[0m: name 'df' is not defined"
     ]
    }
   ],
   "source": [
    "df"
   ]
  },
  {
   "cell_type": "code",
   "execution_count": null,
   "metadata": {
    "collapsed": true
   },
   "outputs": [],
   "source": []
  },
  {
   "cell_type": "code",
   "execution_count": null,
   "metadata": {
    "collapsed": true
   },
   "outputs": [],
   "source": []
  }
 ],
 "metadata": {
  "kernelspec": {
   "display_name": "Python 3",
   "language": "python",
   "name": "python3"
  },
  "language_info": {
   "codemirror_mode": {
    "name": "ipython",
    "version": 3
   },
   "file_extension": ".py",
   "mimetype": "text/x-python",
   "name": "python",
   "nbconvert_exporter": "python",
   "pygments_lexer": "ipython3",
   "version": "3.4.3"
  }
 },
 "nbformat": 4,
 "nbformat_minor": 0
}
