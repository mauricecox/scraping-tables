{
 "cells": [
  {
   "cell_type": "code",
   "execution_count": 1,
   "metadata": {
    "collapsed": false
   },
   "outputs": [],
   "source": [
    "import pandas as pd\n",
    "import requests\n",
    "import string\n",
    "from bs4 import BeautifulSoup\n"
   ]
  },
  {
   "cell_type": "code",
   "execution_count": 2,
   "metadata": {
    "collapsed": false
   },
   "outputs": [],
   "source": [
    "url= 'http://www.bls.gov/oes/2009/may/oes151021.htm'\n",
    "r = requests.get(url)"
   ]
  },
  {
   "cell_type": "code",
   "execution_count": 3,
   "metadata": {
    "collapsed": false
   },
   "outputs": [],
   "source": [
    "soup = BeautifulSoup(r.content)"
   ]
  },
  {
   "cell_type": "code",
   "execution_count": 4,
   "metadata": {
    "collapsed": false
   },
   "outputs": [],
   "source": [
    "tables = soup.find_all(\"table\")\n",
    "data_table = tables[3:4]"
   ]
  },
  {
   "cell_type": "code",
   "execution_count": 5,
   "metadata": {
    "collapsed": false
   },
   "outputs": [
    {
     "data": {
      "text/plain": [
       "[<table border=\"1\" cellpadding=\"5\">\n",
       " <tr>\n",
       " <th align=\"center\" valign=\"middle\" width=\"300\"> Industry </th>\n",
       " <th align=\"center\" valign=\"middle\" width=\"100\"> Employment </th>\n",
       " <th align=\"center\" valign=\"middle\" width=\"100\"> Hourly mean wage </th>\n",
       " <th align=\"center\" valign=\"middle\" width=\"100\"> Annual mean wage </th>\n",
       " </tr>\n",
       " <tr>\n",
       " <td align=\"center\" valign=\"middle\" width=\"300\"><a href=\"naics4_541500.htm\">Computer Systems Design and Related Services                                                                                 </a> </td>\n",
       " <td align=\"center\" valign=\"middle\" width=\"100\">129,780</td>\n",
       " <td align=\"center\" valign=\"middle\" width=\"100\">$36.59</td>\n",
       " <td align=\"center\" valign=\"middle\" width=\"100\">$76,110</td>\n",
       " </tr>\n",
       " <tr>\n",
       " <td align=\"center\" valign=\"middle\" width=\"300\"><a href=\"naics4_511200.htm\">Software Publishers                                                                                                          </a> </td>\n",
       " <td align=\"center\" valign=\"middle\" width=\"100\">18,150</td>\n",
       " <td align=\"center\" valign=\"middle\" width=\"100\">$41.11</td>\n",
       " <td align=\"center\" valign=\"middle\" width=\"100\">$85,510</td>\n",
       " </tr>\n",
       " <tr>\n",
       " <td align=\"center\" valign=\"middle\" width=\"300\"><a href=\"naics4_551100.htm\">Management of Companies and Enterprises                                                                                      </a> </td>\n",
       " <td align=\"center\" valign=\"middle\" width=\"100\">17,560</td>\n",
       " <td align=\"center\" valign=\"middle\" width=\"100\">$35.70</td>\n",
       " <td align=\"center\" valign=\"middle\" width=\"100\">$74,250</td>\n",
       " </tr>\n",
       " <tr>\n",
       " <td align=\"center\" valign=\"middle\" width=\"300\"><a href=\"naics4_561300.htm\">Employment Services                                                                                                          </a> </td>\n",
       " <td align=\"center\" valign=\"middle\" width=\"100\">14,280</td>\n",
       " <td align=\"center\" valign=\"middle\" width=\"100\">$35.82</td>\n",
       " <td align=\"center\" valign=\"middle\" width=\"100\">$74,510</td>\n",
       " </tr>\n",
       " <tr>\n",
       " <td align=\"center\" valign=\"middle\" width=\"300\"><a href=\"naics4_611300.htm\">Colleges, Universities, and Professional Schools                                                                             </a> </td>\n",
       " <td align=\"center\" valign=\"middle\" width=\"100\">11,640</td>\n",
       " <td align=\"center\" valign=\"middle\" width=\"100\">$29.25</td>\n",
       " <td align=\"center\" valign=\"middle\" width=\"100\">$60,840</td>\n",
       " </tr>\n",
       " </table>]"
      ]
     },
     "execution_count": 5,
     "metadata": {},
     "output_type": "execute_result"
    }
   ],
   "source": [
    "data_table"
   ]
  },
  {
   "cell_type": "code",
   "execution_count": 6,
   "metadata": {
    "collapsed": false
   },
   "outputs": [
    {
     "ename": "AttributeError",
     "evalue": "'list' object has no attribute 'find_all'",
     "output_type": "error",
     "traceback": [
      "\u001b[0;31m---------------------------------------------------------------------------\u001b[0m",
      "\u001b[0;31mAttributeError\u001b[0m                            Traceback (most recent call last)",
      "\u001b[0;32m<ipython-input-6-413dab54d381>\u001b[0m in \u001b[0;36m<module>\u001b[0;34m()\u001b[0m\n\u001b[1;32m      1\u001b[0m \u001b[0mdata_table\u001b[0m \u001b[0;34m=\u001b[0m \u001b[0mtables\u001b[0m\u001b[0;34m[\u001b[0m\u001b[0;36m3\u001b[0m\u001b[0;34m:\u001b[0m\u001b[0;36m4\u001b[0m\u001b[0;34m]\u001b[0m\u001b[0;34m\u001b[0m\u001b[0m\n\u001b[1;32m      2\u001b[0m \u001b[0;34m\u001b[0m\u001b[0m\n\u001b[0;32m----> 3\u001b[0;31m \u001b[0;32mfor\u001b[0m \u001b[0mrow\u001b[0m \u001b[0;32min\u001b[0m \u001b[0mdata_table\u001b[0m\u001b[0;34m.\u001b[0m\u001b[0mfind_all\u001b[0m\u001b[0;34m(\u001b[0m\u001b[0;34m'tr'\u001b[0m\u001b[0;34m)\u001b[0m\u001b[0;34m[\u001b[0m\u001b[0;36m1\u001b[0m\u001b[0;34m:\u001b[0m\u001b[0;34m]\u001b[0m\u001b[0;34m:\u001b[0m\u001b[0;34m\u001b[0m\u001b[0m\n\u001b[0m\u001b[1;32m      4\u001b[0m     \u001b[0mcol\u001b[0m \u001b[0;34m=\u001b[0m \u001b[0mrow\u001b[0m\u001b[0;34m.\u001b[0m\u001b[0mfind_all\u001b[0m\u001b[0;34m(\u001b[0m\u001b[0;34m\"td\"\u001b[0m\u001b[0;34m)\u001b[0m\u001b[0;34m\u001b[0m\u001b[0m\n",
      "\u001b[0;31mAttributeError\u001b[0m: 'list' object has no attribute 'find_all'"
     ]
    }
   ],
   "source": [
    "data_table = tables[3:4]\n",
    "\n",
    "for row in data_table.find_all('tr')[1:]:\n",
    "    col = row.find_all(\"td\")"
   ]
  },
  {
   "cell_type": "code",
   "execution_count": null,
   "metadata": {
    "collapsed": false
   },
   "outputs": [],
   "source": [
    "col"
   ]
  },
  {
   "cell_type": "code",
   "execution_count": null,
   "metadata": {
    "collapsed": true
   },
   "outputs": [],
   "source": [
    "industry = []\n",
    "employment = []\n",
    "wage = []\n",
    "salary = []"
   ]
  },
  {
   "cell_type": "code",
   "execution_count": null,
   "metadata": {
    "collapsed": false
   },
   "outputs": [],
   "source": [
    "data_table = tables[0]\n",
    "\n",
    "for row in data_table.find_all(\"tr\"):\n",
    "    col = row.find_all(\"td\")\n",
    "\n",
    "    column_1 = col[0].string.strip()\n",
    "    industry.append(column_1)\n",
    "\n",
    "    column_2 = col[1].string.strip()\n",
    "    employment.append(column_2)\n",
    "\n",
    "    column_3 = col[2].string.strip()\n",
    "    wage.append(column_3)\n",
    "\n",
    "    column_4 = col[3].string.strip()\n",
    "    salary.append(column_4)\n"
   ]
  },
  {
   "cell_type": "code",
   "execution_count": null,
   "metadata": {
    "collapsed": false
   },
   "outputs": [],
   "source": [
    "columns = {'Industry': industry, 'Employment': employment, 'Hourly Wage': wage, 'Yearly Salary': salary}\n",
    "df = pd.DataFrame(columns)\n",
    "df"
   ]
  }
 ],
 "metadata": {
  "kernelspec": {
   "display_name": "Python 3",
   "language": "python",
   "name": "python3"
  },
  "language_info": {
   "codemirror_mode": {
    "name": "ipython",
    "version": 3
   },
   "file_extension": ".py",
   "mimetype": "text/x-python",
   "name": "python",
   "nbconvert_exporter": "python",
   "pygments_lexer": "ipython3",
   "version": "3.4.3"
  }
 },
 "nbformat": 4,
 "nbformat_minor": 0
}
